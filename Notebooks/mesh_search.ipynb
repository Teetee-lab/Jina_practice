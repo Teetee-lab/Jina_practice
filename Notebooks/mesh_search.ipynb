{
  "cells": [
    {
      "cell_type": "markdown",
      "id": "f266a17e-c864-4f63-8db9-2c3caed40c99",
      "metadata": {
        "id": "f266a17e-c864-4f63-8db9-2c3caed40c99"
      },
      "source": [
        "# Search Similar 3D Meshes\n",
        "\n",
        "In this tutorial, we will learn how to build a 3D mesh search pipeline with Jina. In particular, we will be building a search pipeline for 3D models in GLB format.\n",
        "\n",
        "Just like other data types, the 3D meshes search pipeline consists of **loading**, **encoding** and **indexing** the data. We can search the data after they are indexed.\n",
        "\n",
        "## Prerequisites\n",
        "\n",
        "Let's first install the following PyPI dependencies:"
      ]
    },
    {
      "cell_type": "code",
      "execution_count": 1,
      "id": "77ac9e1a-1574-42ca-a5d5-d89466a065ea",
      "metadata": {
        "id": "77ac9e1a-1574-42ca-a5d5-d89466a065ea",
        "outputId": "e264f703-785d-4744-907e-389552cba536",
        "colab": {
          "base_uri": "https://localhost:8080/"
        }
      },
      "outputs": [
        {
          "output_type": "stream",
          "name": "stdout",
          "text": [
            "Requirement already satisfied: tensorflow in /usr/local/lib/python3.7/dist-packages (2.8.0)\n",
            "Collecting trimesh\n",
            "  Downloading trimesh-3.10.5-py3-none-any.whl (641 kB)\n",
            "\u001b[K     |████████████████████████████████| 641 kB 2.1 MB/s \n",
            "\u001b[?25hCollecting pyrender\n",
            "  Downloading pyrender-0.1.45-py3-none-any.whl (1.2 MB)\n",
            "\u001b[K     |████████████████████████████████| 1.2 MB 10.2 MB/s \n",
            "\u001b[?25hRequirement already satisfied: opt-einsum>=2.3.2 in /usr/local/lib/python3.7/dist-packages (from tensorflow) (3.3.0)\n",
            "Collecting tf-estimator-nightly==2.8.0.dev2021122109\n",
            "  Downloading tf_estimator_nightly-2.8.0.dev2021122109-py2.py3-none-any.whl (462 kB)\n",
            "\u001b[K     |████████████████████████████████| 462 kB 34.5 MB/s \n",
            "\u001b[?25hRequirement already satisfied: numpy>=1.20 in /usr/local/lib/python3.7/dist-packages (from tensorflow) (1.21.5)\n",
            "Requirement already satisfied: gast>=0.2.1 in /usr/local/lib/python3.7/dist-packages (from tensorflow) (0.5.3)\n",
            "Requirement already satisfied: h5py>=2.9.0 in /usr/local/lib/python3.7/dist-packages (from tensorflow) (3.1.0)\n",
            "Requirement already satisfied: setuptools in /usr/local/lib/python3.7/dist-packages (from tensorflow) (57.4.0)\n",
            "Requirement already satisfied: flatbuffers>=1.12 in /usr/local/lib/python3.7/dist-packages (from tensorflow) (2.0)\n",
            "Requirement already satisfied: libclang>=9.0.1 in /usr/local/lib/python3.7/dist-packages (from tensorflow) (13.0.0)\n",
            "Requirement already satisfied: grpcio<2.0,>=1.24.3 in /usr/local/lib/python3.7/dist-packages (from tensorflow) (1.44.0)\n",
            "Requirement already satisfied: keras<2.9,>=2.8.0rc0 in /usr/local/lib/python3.7/dist-packages (from tensorflow) (2.8.0)\n",
            "Requirement already satisfied: astunparse>=1.6.0 in /usr/local/lib/python3.7/dist-packages (from tensorflow) (1.6.3)\n",
            "Requirement already satisfied: tensorboard<2.9,>=2.8 in /usr/local/lib/python3.7/dist-packages (from tensorflow) (2.8.0)\n",
            "Requirement already satisfied: absl-py>=0.4.0 in /usr/local/lib/python3.7/dist-packages (from tensorflow) (1.0.0)\n",
            "Requirement already satisfied: wrapt>=1.11.0 in /usr/local/lib/python3.7/dist-packages (from tensorflow) (1.14.0)\n",
            "Requirement already satisfied: typing-extensions>=3.6.6 in /usr/local/lib/python3.7/dist-packages (from tensorflow) (3.10.0.2)\n",
            "Requirement already satisfied: termcolor>=1.1.0 in /usr/local/lib/python3.7/dist-packages (from tensorflow) (1.1.0)\n",
            "Requirement already satisfied: keras-preprocessing>=1.1.1 in /usr/local/lib/python3.7/dist-packages (from tensorflow) (1.1.2)\n",
            "Requirement already satisfied: tensorflow-io-gcs-filesystem>=0.23.1 in /usr/local/lib/python3.7/dist-packages (from tensorflow) (0.24.0)\n",
            "Requirement already satisfied: six>=1.12.0 in /usr/local/lib/python3.7/dist-packages (from tensorflow) (1.15.0)\n",
            "Requirement already satisfied: google-pasta>=0.1.1 in /usr/local/lib/python3.7/dist-packages (from tensorflow) (0.2.0)\n",
            "Requirement already satisfied: protobuf>=3.9.2 in /usr/local/lib/python3.7/dist-packages (from tensorflow) (3.17.3)\n",
            "Requirement already satisfied: wheel<1.0,>=0.23.0 in /usr/local/lib/python3.7/dist-packages (from astunparse>=1.6.0->tensorflow) (0.37.1)\n",
            "Requirement already satisfied: cached-property in /usr/local/lib/python3.7/dist-packages (from h5py>=2.9.0->tensorflow) (1.5.2)\n",
            "Requirement already satisfied: google-auth<3,>=1.6.3 in /usr/local/lib/python3.7/dist-packages (from tensorboard<2.9,>=2.8->tensorflow) (1.35.0)\n",
            "Requirement already satisfied: tensorboard-data-server<0.7.0,>=0.6.0 in /usr/local/lib/python3.7/dist-packages (from tensorboard<2.9,>=2.8->tensorflow) (0.6.1)\n",
            "Requirement already satisfied: google-auth-oauthlib<0.5,>=0.4.1 in /usr/local/lib/python3.7/dist-packages (from tensorboard<2.9,>=2.8->tensorflow) (0.4.6)\n",
            "Requirement already satisfied: tensorboard-plugin-wit>=1.6.0 in /usr/local/lib/python3.7/dist-packages (from tensorboard<2.9,>=2.8->tensorflow) (1.8.1)\n",
            "Requirement already satisfied: markdown>=2.6.8 in /usr/local/lib/python3.7/dist-packages (from tensorboard<2.9,>=2.8->tensorflow) (3.3.6)\n",
            "Requirement already satisfied: requests<3,>=2.21.0 in /usr/local/lib/python3.7/dist-packages (from tensorboard<2.9,>=2.8->tensorflow) (2.23.0)\n",
            "Requirement already satisfied: werkzeug>=0.11.15 in /usr/local/lib/python3.7/dist-packages (from tensorboard<2.9,>=2.8->tensorflow) (1.0.1)\n",
            "Requirement already satisfied: cachetools<5.0,>=2.0.0 in /usr/local/lib/python3.7/dist-packages (from google-auth<3,>=1.6.3->tensorboard<2.9,>=2.8->tensorflow) (4.2.4)\n",
            "Requirement already satisfied: pyasn1-modules>=0.2.1 in /usr/local/lib/python3.7/dist-packages (from google-auth<3,>=1.6.3->tensorboard<2.9,>=2.8->tensorflow) (0.2.8)\n",
            "Requirement already satisfied: rsa<5,>=3.1.4 in /usr/local/lib/python3.7/dist-packages (from google-auth<3,>=1.6.3->tensorboard<2.9,>=2.8->tensorflow) (4.8)\n",
            "Requirement already satisfied: requests-oauthlib>=0.7.0 in /usr/local/lib/python3.7/dist-packages (from google-auth-oauthlib<0.5,>=0.4.1->tensorboard<2.9,>=2.8->tensorflow) (1.3.1)\n",
            "Requirement already satisfied: importlib-metadata>=4.4 in /usr/local/lib/python3.7/dist-packages (from markdown>=2.6.8->tensorboard<2.9,>=2.8->tensorflow) (4.11.3)\n",
            "Requirement already satisfied: zipp>=0.5 in /usr/local/lib/python3.7/dist-packages (from importlib-metadata>=4.4->markdown>=2.6.8->tensorboard<2.9,>=2.8->tensorflow) (3.7.0)\n",
            "Requirement already satisfied: pyasn1<0.5.0,>=0.4.6 in /usr/local/lib/python3.7/dist-packages (from pyasn1-modules>=0.2.1->google-auth<3,>=1.6.3->tensorboard<2.9,>=2.8->tensorflow) (0.4.8)\n",
            "Requirement already satisfied: certifi>=2017.4.17 in /usr/local/lib/python3.7/dist-packages (from requests<3,>=2.21.0->tensorboard<2.9,>=2.8->tensorflow) (2021.10.8)\n",
            "Requirement already satisfied: idna<3,>=2.5 in /usr/local/lib/python3.7/dist-packages (from requests<3,>=2.21.0->tensorboard<2.9,>=2.8->tensorflow) (2.10)\n",
            "Requirement already satisfied: chardet<4,>=3.0.2 in /usr/local/lib/python3.7/dist-packages (from requests<3,>=2.21.0->tensorboard<2.9,>=2.8->tensorflow) (3.0.4)\n",
            "Requirement already satisfied: urllib3!=1.25.0,!=1.25.1,<1.26,>=1.21.1 in /usr/local/lib/python3.7/dist-packages (from requests<3,>=2.21.0->tensorboard<2.9,>=2.8->tensorflow) (1.24.3)\n",
            "Requirement already satisfied: oauthlib>=3.0.0 in /usr/local/lib/python3.7/dist-packages (from requests-oauthlib>=0.7.0->google-auth-oauthlib<0.5,>=0.4.1->tensorboard<2.9,>=2.8->tensorflow) (3.2.0)\n",
            "Requirement already satisfied: networkx in /usr/local/lib/python3.7/dist-packages (from pyrender) (2.6.3)\n",
            "Requirement already satisfied: imageio in /usr/local/lib/python3.7/dist-packages (from pyrender) (2.4.1)\n",
            "Requirement already satisfied: pyglet>=1.4.10 in /usr/local/lib/python3.7/dist-packages (from pyrender) (1.5.0)\n",
            "Collecting PyOpenGL==3.1.0\n",
            "  Downloading PyOpenGL-3.1.0.zip (2.2 MB)\n",
            "\u001b[K     |████████████████████████████████| 2.2 MB 33.0 MB/s \n",
            "\u001b[?25hCollecting freetype-py\n",
            "  Downloading freetype_py-2.2.0-py3-none-manylinux1_x86_64.whl (890 kB)\n",
            "\u001b[K     |████████████████████████████████| 890 kB 38.0 MB/s \n",
            "\u001b[?25hRequirement already satisfied: Pillow in /usr/local/lib/python3.7/dist-packages (from pyrender) (7.1.2)\n",
            "Requirement already satisfied: scipy in /usr/local/lib/python3.7/dist-packages (from pyrender) (1.4.1)\n",
            "Requirement already satisfied: future in /usr/local/lib/python3.7/dist-packages (from pyglet>=1.4.10->pyrender) (0.16.0)\n",
            "Building wheels for collected packages: PyOpenGL\n",
            "  Building wheel for PyOpenGL (setup.py) ... \u001b[?25l\u001b[?25hdone\n",
            "  Created wheel for PyOpenGL: filename=PyOpenGL-3.1.0-py3-none-any.whl size=1745210 sha256=5fc4054ec869fe80d643a47159321433739553fadca9f8f7ed64c881d571fb87\n",
            "  Stored in directory: /root/.cache/pip/wheels/c6/83/cb/af51a0c06c33d08537b941bbfc87469e8a3c68d05f77a6a212\n",
            "Successfully built PyOpenGL\n",
            "Installing collected packages: trimesh, tf-estimator-nightly, PyOpenGL, freetype-py, pyrender\n",
            "  Attempting uninstall: PyOpenGL\n",
            "    Found existing installation: PyOpenGL 3.1.6\n",
            "    Uninstalling PyOpenGL-3.1.6:\n",
            "      Successfully uninstalled PyOpenGL-3.1.6\n",
            "Successfully installed PyOpenGL-3.1.0 freetype-py-2.2.0 pyrender-0.1.45 tf-estimator-nightly-2.8.0.dev2021122109 trimesh-3.10.5\n"
          ]
        }
      ],
      "source": [
        "!pip install tensorflow trimesh pyrender"
      ]
    },
    {
      "cell_type": "code",
      "source": [
        "!pip install docarray"
      ],
      "metadata": {
        "id": "WZhcMx7vxxjM",
        "outputId": "f74bb346-4730-4fc1-8007-1b9d24c12b0c",
        "colab": {
          "base_uri": "https://localhost:8080/"
        }
      },
      "id": "WZhcMx7vxxjM",
      "execution_count": 3,
      "outputs": [
        {
          "output_type": "stream",
          "name": "stdout",
          "text": [
            "Collecting docarray\n",
            "  Downloading docarray-0.9.16.tar.gz (611 kB)\n",
            "\u001b[K     |████████████████████████████████| 611 kB 1.8 MB/s \n",
            "\u001b[?25hRequirement already satisfied: numpy in /usr/local/lib/python3.7/dist-packages (from docarray) (1.21.5)\n",
            "Collecting rich\n",
            "  Downloading rich-12.0.1-py3-none-any.whl (224 kB)\n",
            "\u001b[K     |████████████████████████████████| 224 kB 38.5 MB/s \n",
            "\u001b[?25hRequirement already satisfied: typing-extensions<5.0,>=3.7.4 in /usr/local/lib/python3.7/dist-packages (from rich->docarray) (3.10.0.2)\n",
            "Requirement already satisfied: pygments<3.0.0,>=2.6.0 in /usr/local/lib/python3.7/dist-packages (from rich->docarray) (2.6.1)\n",
            "Collecting commonmark<0.10.0,>=0.9.0\n",
            "  Downloading commonmark-0.9.1-py2.py3-none-any.whl (51 kB)\n",
            "\u001b[K     |████████████████████████████████| 51 kB 4.1 MB/s \n",
            "\u001b[?25hBuilding wheels for collected packages: docarray\n",
            "  Building wheel for docarray (setup.py) ... \u001b[?25l\u001b[?25hdone\n",
            "  Created wheel for docarray: filename=docarray-0.9.16-py3-none-any.whl size=650532 sha256=8a41017823a07cae2e0cb1e7e3e290afae7e01d40d4d8999888b5b9d1a222def\n",
            "  Stored in directory: /root/.cache/pip/wheels/66/c7/44/e3b1cd32a45cc9185e929519dc1c168ea4e910bbcfb360f62f\n",
            "Successfully built docarray\n",
            "Installing collected packages: commonmark, rich, docarray\n",
            "Successfully installed commonmark-0.9.1 docarray-0.9.16 rich-12.0.1\n"
          ]
        }
      ]
    },
    {
      "cell_type": "code",
      "source": [
        "!pip install jina"
      ],
      "metadata": {
        "id": "lA4oMSqIx3Id",
        "outputId": "560f5824-6589-40cd-ca26-3d5bb24762f0",
        "colab": {
          "base_uri": "https://localhost:8080/",
          "height": 1000
        }
      },
      "id": "lA4oMSqIx3Id",
      "execution_count": 4,
      "outputs": [
        {
          "output_type": "stream",
          "name": "stdout",
          "text": [
            "Collecting jina\n",
            "  Downloading jina-3.2.7.tar.gz (280 kB)\n",
            "\u001b[K     |████████████████████████████████| 280 kB 2.1 MB/s \n",
            "\u001b[?25hCollecting aiofiles\n",
            "  Downloading aiofiles-0.8.0-py3-none-any.whl (13 kB)\n",
            "Collecting aiostream\n",
            "  Downloading aiostream-0.4.4.tar.gz (32 kB)\n",
            "Collecting fastapi\n",
            "  Downloading fastapi-0.75.0-py3-none-any.whl (54 kB)\n",
            "\u001b[K     |████████████████████████████████| 54 kB 2.7 MB/s \n",
            "\u001b[?25hCollecting uvloop\n",
            "  Downloading uvloop-0.16.0-cp37-cp37m-manylinux_2_12_x86_64.manylinux2010_x86_64.whl (3.8 MB)\n",
            "\u001b[K     |████████████████████████████████| 3.8 MB 8.4 MB/s \n",
            "\u001b[?25hRequirement already satisfied: packaging>=20.0 in /usr/local/lib/python3.7/dist-packages (from jina) (21.3)\n",
            "Collecting lz4<3.1.2\n",
            "  Downloading lz4-3.1.1-cp37-cp37m-manylinux2010_x86_64.whl (1.8 MB)\n",
            "\u001b[K     |████████████████████████████████| 1.8 MB 32.1 MB/s \n",
            "\u001b[?25hRequirement already satisfied: numpy in /usr/local/lib/python3.7/dist-packages (from jina) (1.21.5)\n",
            "Requirement already satisfied: filelock in /usr/local/lib/python3.7/dist-packages (from jina) (3.6.0)\n",
            "Collecting docker\n",
            "  Downloading docker-5.0.3-py2.py3-none-any.whl (146 kB)\n",
            "\u001b[K     |████████████████████████████████| 146 kB 42.6 MB/s \n",
            "\u001b[?25hCollecting protobuf>=3.19.1\n",
            "  Downloading protobuf-3.19.4-cp37-cp37m-manylinux_2_17_x86_64.manylinux2014_x86_64.whl (1.1 MB)\n",
            "\u001b[K     |████████████████████████████████| 1.1 MB 37.0 MB/s \n",
            "\u001b[?25hCollecting cryptography\n",
            "  Downloading cryptography-36.0.2-cp36-abi3-manylinux_2_24_x86_64.whl (3.6 MB)\n",
            "\u001b[K     |████████████████████████████████| 3.6 MB 26.5 MB/s \n",
            "\u001b[?25hRequirement already satisfied: grpcio>=1.33.1 in /usr/local/lib/python3.7/dist-packages (from jina) (1.44.0)\n",
            "Collecting pathspec\n",
            "  Downloading pathspec-0.9.0-py2.py3-none-any.whl (31 kB)\n",
            "Collecting aiohttp\n",
            "  Downloading aiohttp-3.8.1-cp37-cp37m-manylinux_2_5_x86_64.manylinux1_x86_64.manylinux_2_12_x86_64.manylinux2010_x86_64.whl (1.1 MB)\n",
            "\u001b[K     |████████████████████████████████| 1.1 MB 46.0 MB/s \n",
            "\u001b[?25hRequirement already satisfied: requests in /usr/local/lib/python3.7/dist-packages (from jina) (2.23.0)\n",
            "Collecting pydantic\n",
            "  Downloading pydantic-1.9.0-cp37-cp37m-manylinux_2_17_x86_64.manylinux2014_x86_64.whl (10.9 MB)\n",
            "\u001b[K     |████████████████████████████████| 10.9 MB 31.4 MB/s \n",
            "\u001b[?25hCollecting python-multipart\n",
            "  Downloading python-multipart-0.0.5.tar.gz (32 kB)\n",
            "Collecting pyyaml>=5.3.1\n",
            "  Downloading PyYAML-6.0-cp37-cp37m-manylinux_2_5_x86_64.manylinux1_x86_64.manylinux_2_12_x86_64.manylinux2010_x86_64.whl (596 kB)\n",
            "\u001b[K     |████████████████████████████████| 596 kB 35.5 MB/s \n",
            "\u001b[?25hCollecting uvicorn[standard]\n",
            "  Downloading uvicorn-0.17.6-py3-none-any.whl (53 kB)\n",
            "\u001b[K     |████████████████████████████████| 53 kB 1.8 MB/s \n",
            "\u001b[?25hRequirement already satisfied: rich in /usr/local/lib/python3.7/dist-packages (from jina) (12.0.1)\n",
            "Requirement already satisfied: docarray>=0.9.10 in /usr/local/lib/python3.7/dist-packages (from jina) (0.9.16)\n",
            "Collecting websockets\n",
            "  Downloading websockets-10.2-cp37-cp37m-manylinux_2_5_x86_64.manylinux1_x86_64.manylinux_2_12_x86_64.manylinux2010_x86_64.whl (111 kB)\n",
            "\u001b[K     |████████████████████████████████| 111 kB 46.0 MB/s \n",
            "\u001b[?25hRequirement already satisfied: six>=1.5.2 in /usr/local/lib/python3.7/dist-packages (from grpcio>=1.33.1->jina) (1.15.0)\n",
            "Requirement already satisfied: pyparsing!=3.0.5,>=2.0.2 in /usr/local/lib/python3.7/dist-packages (from packaging>=20.0->jina) (3.0.7)\n",
            "Collecting async-timeout<5.0,>=4.0.0a3\n",
            "  Downloading async_timeout-4.0.2-py3-none-any.whl (5.8 kB)\n",
            "Collecting frozenlist>=1.1.1\n",
            "  Downloading frozenlist-1.3.0-cp37-cp37m-manylinux_2_5_x86_64.manylinux1_x86_64.manylinux_2_17_x86_64.manylinux2014_x86_64.whl (144 kB)\n",
            "\u001b[K     |████████████████████████████████| 144 kB 48.5 MB/s \n",
            "\u001b[?25hCollecting yarl<2.0,>=1.0\n",
            "  Downloading yarl-1.7.2-cp37-cp37m-manylinux_2_5_x86_64.manylinux1_x86_64.manylinux_2_12_x86_64.manylinux2010_x86_64.whl (271 kB)\n",
            "\u001b[K     |████████████████████████████████| 271 kB 40.2 MB/s \n",
            "\u001b[?25hCollecting asynctest==0.13.0\n",
            "  Downloading asynctest-0.13.0-py3-none-any.whl (26 kB)\n",
            "Requirement already satisfied: charset-normalizer<3.0,>=2.0 in /usr/local/lib/python3.7/dist-packages (from aiohttp->jina) (2.0.12)\n",
            "Collecting aiosignal>=1.1.2\n",
            "  Downloading aiosignal-1.2.0-py3-none-any.whl (8.2 kB)\n",
            "Requirement already satisfied: attrs>=17.3.0 in /usr/local/lib/python3.7/dist-packages (from aiohttp->jina) (21.4.0)\n",
            "Collecting multidict<7.0,>=4.5\n",
            "  Downloading multidict-6.0.2-cp37-cp37m-manylinux_2_17_x86_64.manylinux2014_x86_64.whl (94 kB)\n",
            "\u001b[K     |████████████████████████████████| 94 kB 1.2 MB/s \n",
            "\u001b[?25hRequirement already satisfied: typing-extensions>=3.7.4 in /usr/local/lib/python3.7/dist-packages (from aiohttp->jina) (3.10.0.2)\n",
            "Requirement already satisfied: idna>=2.0 in /usr/local/lib/python3.7/dist-packages (from yarl<2.0,>=1.0->aiohttp->jina) (2.10)\n",
            "Requirement already satisfied: cffi>=1.12 in /usr/local/lib/python3.7/dist-packages (from cryptography->jina) (1.15.0)\n",
            "Requirement already satisfied: pycparser in /usr/local/lib/python3.7/dist-packages (from cffi>=1.12->cryptography->jina) (2.21)\n",
            "Collecting websocket-client>=0.32.0\n",
            "  Downloading websocket_client-1.3.1-py3-none-any.whl (54 kB)\n",
            "\u001b[K     |████████████████████████████████| 54 kB 2.5 MB/s \n",
            "\u001b[?25hRequirement already satisfied: chardet<4,>=3.0.2 in /usr/local/lib/python3.7/dist-packages (from requests->jina) (3.0.4)\n",
            "Requirement already satisfied: certifi>=2017.4.17 in /usr/local/lib/python3.7/dist-packages (from requests->jina) (2021.10.8)\n",
            "Requirement already satisfied: urllib3!=1.25.0,!=1.25.1,<1.26,>=1.21.1 in /usr/local/lib/python3.7/dist-packages (from requests->jina) (1.24.3)\n",
            "Collecting starlette==0.17.1\n",
            "  Downloading starlette-0.17.1-py3-none-any.whl (58 kB)\n",
            "\u001b[K     |████████████████████████████████| 58 kB 4.9 MB/s \n",
            "\u001b[?25hCollecting anyio<4,>=3.0.0\n",
            "  Downloading anyio-3.5.0-py3-none-any.whl (79 kB)\n",
            "\u001b[K     |████████████████████████████████| 79 kB 7.8 MB/s \n",
            "\u001b[?25hCollecting sniffio>=1.1\n",
            "  Downloading sniffio-1.2.0-py3-none-any.whl (10 kB)\n",
            "Requirement already satisfied: pygments<3.0.0,>=2.6.0 in /usr/local/lib/python3.7/dist-packages (from rich->jina) (2.6.1)\n",
            "Requirement already satisfied: commonmark<0.10.0,>=0.9.0 in /usr/local/lib/python3.7/dist-packages (from rich->jina) (0.9.1)\n",
            "Requirement already satisfied: click>=7.0 in /usr/local/lib/python3.7/dist-packages (from uvicorn[standard]->jina) (7.1.2)\n",
            "Collecting asgiref>=3.4.0\n",
            "  Downloading asgiref-3.5.0-py3-none-any.whl (22 kB)\n",
            "Collecting h11>=0.8\n",
            "  Downloading h11-0.13.0-py3-none-any.whl (58 kB)\n",
            "\u001b[K     |████████████████████████████████| 58 kB 5.5 MB/s \n",
            "\u001b[?25hCollecting python-dotenv>=0.13\n",
            "  Downloading python_dotenv-0.19.2-py2.py3-none-any.whl (17 kB)\n",
            "Collecting watchgod>=0.6\n",
            "  Downloading watchgod-0.8.1-py3-none-any.whl (12 kB)\n",
            "Collecting httptools>=0.4.0\n",
            "  Downloading httptools-0.4.0-cp37-cp37m-manylinux_2_5_x86_64.manylinux1_x86_64.manylinux_2_12_x86_64.manylinux2010_x86_64.whl (406 kB)\n",
            "\u001b[K     |████████████████████████████████| 406 kB 38.4 MB/s \n",
            "\u001b[?25hBuilding wheels for collected packages: jina, aiostream, python-multipart\n",
            "  Building wheel for jina (setup.py) ... \u001b[?25l\u001b[?25hdone\n",
            "  Created wheel for jina: filename=jina-3.2.7-py3-none-any.whl size=349311 sha256=c190b7aceb9937b2ebb2381d18669fca3199c1e254eaa68847d9fac9f4f74a67\n",
            "  Stored in directory: /root/.cache/pip/wheels/7f/f8/45/5976736323cd3b948a9cc2908c8906e69b47b423caf82ce3c6\n",
            "  Building wheel for aiostream (setup.py) ... \u001b[?25l\u001b[?25hdone\n",
            "  Created wheel for aiostream: filename=aiostream-0.4.4-py3-none-any.whl size=35648 sha256=a56c3afeff2fa33f2b477705cfe296946522185c5ece8138b3ae9247061c1bd9\n",
            "  Stored in directory: /root/.cache/pip/wheels/4f/21/19/0141f098b792ee743e77c609bc0d42e7742b1f66db58f56cd9\n",
            "  Building wheel for python-multipart (setup.py) ... \u001b[?25l\u001b[?25hdone\n",
            "  Created wheel for python-multipart: filename=python_multipart-0.0.5-py3-none-any.whl size=31678 sha256=38b4f53c25a12c89dc4abc10f8e8da777876ff06d50638c9af8f5824429cb03b\n",
            "  Stored in directory: /root/.cache/pip/wheels/2c/41/7c/bfd1c180534ffdcc0972f78c5758f89881602175d48a8bcd2c\n",
            "Successfully built jina aiostream python-multipart\n",
            "Installing collected packages: sniffio, multidict, h11, frozenlist, asgiref, anyio, yarl, websockets, websocket-client, watchgod, uvloop, uvicorn, starlette, pyyaml, python-dotenv, pydantic, httptools, asynctest, async-timeout, aiosignal, python-multipart, protobuf, pathspec, lz4, fastapi, docker, cryptography, aiostream, aiohttp, aiofiles, jina\n",
            "  Attempting uninstall: pyyaml\n",
            "    Found existing installation: PyYAML 3.13\n",
            "    Uninstalling PyYAML-3.13:\n",
            "      Successfully uninstalled PyYAML-3.13\n",
            "  Attempting uninstall: protobuf\n",
            "    Found existing installation: protobuf 3.17.3\n",
            "    Uninstalling protobuf-3.17.3:\n",
            "      Successfully uninstalled protobuf-3.17.3\n",
            "Successfully installed aiofiles-0.8.0 aiohttp-3.8.1 aiosignal-1.2.0 aiostream-0.4.4 anyio-3.5.0 asgiref-3.5.0 async-timeout-4.0.2 asynctest-0.13.0 cryptography-36.0.2 docker-5.0.3 fastapi-0.75.0 frozenlist-1.3.0 h11-0.13.0 httptools-0.4.0 jina-3.2.7 lz4-3.1.1 multidict-6.0.2 pathspec-0.9.0 protobuf-3.19.4 pydantic-1.9.0 python-dotenv-0.19.2 python-multipart-0.0.5 pyyaml-6.0 sniffio-1.2.0 starlette-0.17.1 uvicorn-0.17.6 uvloop-0.16.0 watchgod-0.8.1 websocket-client-1.3.1 websockets-10.2 yarl-1.7.2\n"
          ]
        },
        {
          "output_type": "display_data",
          "data": {
            "application/vnd.colab-display-data+json": {
              "pip_warning": {
                "packages": [
                  "google"
                ]
              }
            }
          },
          "metadata": {}
        }
      ]
    },
    {
      "cell_type": "markdown",
      "id": "2a4a6cac-b561-4b99-aacd-9498eb1946b5",
      "metadata": {
        "id": "2a4a6cac-b561-4b99-aacd-9498eb1946b5"
      },
      "source": [
        "## Load GLB data\n",
        "\n",
        "First, given a `glb` file, how do we load and craft the `glb` into a Document so that we can process and encode?\n",
        "Let's use `trimesh` to build an Executor for this."
      ]
    },
    {
      "cell_type": "code",
      "execution_count": 1,
      "id": "4a3a4413-4d67-4ae0-aa8f-5aaa4c428d5e",
      "metadata": {
        "id": "4a3a4413-4d67-4ae0-aa8f-5aaa4c428d5e"
      },
      "outputs": [],
      "source": [
        "import trimesh\n",
        "from typing import Optional\n",
        "from docarray import Document, DocumentArray\n",
        "from jina import Executor, requests\n",
        "\n",
        "def as_mesh(scene: trimesh.Scene) -> Optional[trimesh.Trimesh]:\n",
        "    if len(scene.geometry) == 0:\n",
        "        return None\n",
        "    return trimesh.util.concatenate(\n",
        "        tuple(trimesh.Trimesh(vertices=g.vertices, faces=g.faces)\n",
        "            for g in scene.geometry.values()))\n",
        "\n",
        "\n",
        "class GlbCrafter(Executor):\n",
        "    @requests(on=['/index', '/search'])\n",
        "    def craft(self, docs: DocumentArray, **kwargs):\n",
        "        for d in docs:\n",
        "            mesh = trimesh.load_mesh(d.uri)\n",
        "            d.tensor = as_mesh(trimesh.load_mesh(d.uri)).sample(2048)"
      ]
    },
    {
      "cell_type": "markdown",
      "id": "8f61fa4a-2a7c-4a57-af62-7ad67a2f8103",
      "metadata": {
        "tags": [],
        "id": "8f61fa4a-2a7c-4a57-af62-7ad67a2f8103"
      },
      "source": [
        "We first load the data of each `glb` file as Python object.\n",
        "We will use the `trimesh` package to represents the `glb` data in the form of triangular meshes.\n",
        "The loaded object is of type `trimesh.Scene` which may contain one or more triangular mesh geometries.\n",
        "We combine all the meshes in the `Scene` to create a single `Trimesh` using `as_mesh`.\n",
        "Then we can sample surfaces from a single mesh geometry.\n",
        "The sampled surface will be made from 2048 points in 3D space and hence the shape of the `ndarray` representing each 3D model will be `(2048, 3)`.\n",
        "\n",
        "## Encode 3D Model\n",
        "\n",
        "Once we convert each `glb` model into an `ndarray`, encoding the inputs becomes straightforward.\n",
        "We will use our pre-trained `pointnet` to encode the data. The model looks like:"
      ]
    },
    {
      "cell_type": "code",
      "execution_count": 2,
      "id": "200ca462-b961-4df4-b29d-4dced55f4cb8",
      "metadata": {
        "id": "200ca462-b961-4df4-b29d-4dced55f4cb8"
      },
      "outputs": [],
      "source": [
        "def get_model(ckpt_path):\n",
        "    import numpy as np\n",
        "    import tensorflow as tf\n",
        "    from tensorflow import keras\n",
        "    from keras import layers\n",
        "    \n",
        "    def conv_bn(x, filters):\n",
        "        x = layers.Conv1D(filters, kernel_size=1, padding='valid')(x)\n",
        "        x = layers.BatchNormalization(momentum=0.0)(x)\n",
        "        return layers.Activation('relu')(x)\n",
        "    \n",
        "    \n",
        "    def dense_bn(x, filters):\n",
        "        x = layers.Dense(filters)(x)\n",
        "        x = layers.BatchNormalization(momentum=0.0)(x)\n",
        "        return layers.Activation('relu')(x)\n",
        "    \n",
        "    \n",
        "    def tnet(inputs, num_features):\n",
        "        class OrthogonalRegularizer(keras.regularizers.Regularizer):\n",
        "            def __init__(self, num_features_, l2reg=0.001):\n",
        "                self.num_features = num_features_\n",
        "                self.l2reg = l2reg\n",
        "                self.eye = tf.eye(self.num_features)\n",
        "    \n",
        "            def __call__(self, x):\n",
        "                x = tf.reshape(x, (-1, self.num_features, self.num_features))\n",
        "                xxt = tf.tensordot(x, x, axes=(2, 2))\n",
        "                xxt = tf.reshape(xxt, (-1, self.num_features, self.num_features))\n",
        "                return tf.reduce_sum(self.l2reg * tf.square(xxt - self.eye))\n",
        "    \n",
        "            def get_config(self):\n",
        "                return {'num_features': self.num_features,\n",
        "                        'l2reg': self.l2reg,\n",
        "                        'eye': self.eye.numpy()}\n",
        "    \n",
        "        bias = keras.initializers.Constant(np.eye(num_features).flatten())\n",
        "        reg = OrthogonalRegularizer(num_features)\n",
        "    \n",
        "        x = conv_bn(inputs, 32)\n",
        "        x = conv_bn(x, 64)\n",
        "        x = conv_bn(x, 512)\n",
        "        x = layers.GlobalMaxPooling1D()(x)\n",
        "        x = dense_bn(x, 256)\n",
        "        x = dense_bn(x, 128)\n",
        "        x = layers.Dense(\n",
        "            num_features * num_features,\n",
        "            kernel_initializer='zeros',\n",
        "            bias_initializer=bias,\n",
        "            activity_regularizer=reg,\n",
        "        )(x)\n",
        "        feat_T = layers.Reshape((num_features, num_features))(x)\n",
        "        return layers.Dot(axes=(2, 1))([inputs, feat_T])\n",
        "\n",
        "    inputs = keras.Input(shape=(2048, 3))\n",
        "    x = tnet(inputs, 3)\n",
        "    x = conv_bn(x, 32)\n",
        "    x = conv_bn(x, 32)\n",
        "    x = tnet(x, 32)\n",
        "    x = conv_bn(x, 32)\n",
        "    x = conv_bn(x, 64)\n",
        "    x = layers.GlobalMaxPooling1D()(x)\n",
        "    x = dense_bn(x, 128)\n",
        "    x = layers.Dropout(0.3)(x)\n",
        "    outputs = layers.Dense(1, activation='softmax')(x)\n",
        "    model = keras.Model(inputs=inputs, outputs=outputs, name='pointnet')\n",
        "    intermediate_layer_model = keras.Model(inputs=model.input,\n",
        "                                           outputs=model.get_layer(f'dense_1').output)\n",
        "    intermediate_layer_model.load_weights(ckpt_path)\n",
        "    return intermediate_layer_model"
      ]
    },
    {
      "cell_type": "markdown",
      "id": "a4c8c06f-34f0-4471-b576-94d24c279e99",
      "metadata": {
        "id": "a4c8c06f-34f0-4471-b576-94d24c279e99"
      },
      "source": [
        "With the above model, we can then build our `pointnet` executor:"
      ]
    },
    {
      "cell_type": "code",
      "execution_count": 3,
      "id": "40f485cd-0f0d-4bbc-9979-ecb6505557dd",
      "metadata": {
        "id": "40f485cd-0f0d-4bbc-9979-ecb6505557dd"
      },
      "outputs": [],
      "source": [
        "class PNEncoder(Executor):\n",
        "    def __init__(self, ckpt_path: str, **kwargs):\n",
        "        super().__init__(**kwargs)\n",
        "        self.embedding_model = get_model(ckpt_path=ckpt_path)\n",
        "\n",
        "    @requests(on=['/index', '/search'])\n",
        "    def encode(self, docs: DocumentArray, **kwargs):\n",
        "        docs.embeddings = self.embedding_model.predict(docs.tensors)"
      ]
    },
    {
      "cell_type": "markdown",
      "id": "d54992f1-b229-43cc-9a17-8aa6a27e2b7c",
      "metadata": {
        "id": "d54992f1-b229-43cc-9a17-8aa6a27e2b7c"
      },
      "source": [
        "<div class=\"alert alert-block alert-info\">\n",
        "<b>Tip:</b>  Instead of iterating over each doc to set its embedding, we can directly get the tensors of all docs in `docs` at once by using the attribute `blobs` and set the embeddings of all docs in `docs` at once by using the attribute `embeddings`.</div>"
      ]
    },
    {
      "cell_type": "markdown",
      "id": "47fb7295-8303-4415-9142-cd65ecc548b5",
      "metadata": {
        "id": "47fb7295-8303-4415-9142-cd65ecc548b5"
      },
      "source": [
        "## Index the data\n",
        "\n",
        "Let's also build an indexer to index the data."
      ]
    },
    {
      "cell_type": "code",
      "execution_count": 4,
      "id": "f837438b-5a11-4dbd-9e9a-481fc685d552",
      "metadata": {
        "id": "f837438b-5a11-4dbd-9e9a-481fc685d552"
      },
      "outputs": [],
      "source": [
        "class MyIndexer(Executor):\n",
        "    _docs = DocumentArray()\n",
        "\n",
        "    @requests(on='/index')\n",
        "    def index(self, docs: DocumentArray, **kwargs):\n",
        "        self._docs.extend(docs)\n",
        "\n",
        "    @requests(on='/search')\n",
        "    def search(self, docs: DocumentArray, **kwargs):\n",
        "        docs.match(self._docs, limit=5)"
      ]
    },
    {
      "cell_type": "markdown",
      "id": "c5170d2f-6dd8-4bce-95d8-a8883892ca95",
      "metadata": {
        "tags": [],
        "id": "c5170d2f-6dd8-4bce-95d8-a8883892ca95"
      },
      "source": [
        "The above indexer simply uses `DocumentArray` to store all the index docs and leverages the `match` function of `DocumentArray` to match the query with docs indexed.\n",
        "\n",
        "## Visualize 3D Model\n",
        "\n",
        "Finally, let's also build the `GlbVisualizer` to visualize the results."
      ]
    },
    {
      "cell_type": "code",
      "execution_count": 8,
      "id": "3c9d91b3-c6d8-4b77-a142-befe32960127",
      "metadata": {
        "id": "3c9d91b3-c6d8-4b77-a142-befe32960127"
      },
      "outputs": [],
      "source": [
        "import pyrender\n",
        "import pyglet\n",
        "from pyglet import clock\n",
        "from pyglet.gl import Config\n",
        "from pyrender import Viewer\n",
        "\n",
        "\n",
        "def _init_and_start_app(self):\n",
        "        TARGET_OPEN_GL_MAJOR = 4  # Target OpenGL Major Version\n",
        "        TARGET_OPEN_GL_MINOR = 1\n",
        "        MIN_OPEN_GL_MAJOR = 3     # Minimum OpenGL Major Version\n",
        "        MIN_OPEN_GL_MINOR = 3     # Minimum OpenGL Minor Version\n",
        "        confs = [Config(sample_buffers=1, samples=4,\n",
        "                        depth_size=24,\n",
        "                        double_buffer=True,\n",
        "                        major_version=TARGET_OPEN_GL_MAJOR,\n",
        "                        minor_version=TARGET_OPEN_GL_MINOR),\n",
        "                 Config(depth_size=24,\n",
        "                        double_buffer=True,\n",
        "                        major_version=TARGET_OPEN_GL_MAJOR,\n",
        "                        minor_version=TARGET_OPEN_GL_MINOR),\n",
        "                 Config(sample_buffers=1, samples=4,\n",
        "                        depth_size=24,\n",
        "                        double_buffer=True,\n",
        "                        major_version=MIN_OPEN_GL_MAJOR,\n",
        "                        minor_version=MIN_OPEN_GL_MINOR),\n",
        "                 Config(depth_size=24,\n",
        "                        double_buffer=True,\n",
        "                        major_version=MIN_OPEN_GL_MAJOR,\n",
        "                        minor_version=MIN_OPEN_GL_MINOR)]\n",
        "        for conf in confs:\n",
        "            try:\n",
        "                super(Viewer, self).__init__(config=conf, resizable=True,\n",
        "                                             width=self._viewport_size[0],\n",
        "                                             height=self._viewport_size[1])\n",
        "                break\n",
        "            except pyglet.window.NoSuchConfigException:\n",
        "                pass\n",
        "\n",
        "        if not self.context:\n",
        "            raise ValueError('Unable to initialize an OpenGL 3+ context')\n",
        "\n",
        "        clock.schedule_interval(\n",
        "            Viewer._time_event, 1.0 / self.viewer_flags['refresh_rate'], self\n",
        "        )\n",
        "        self.switch_to()\n",
        "        self.set_caption(self.viewer_flags['window_title'])\n",
        "\n",
        "\n",
        "class GlbVisualizer:\n",
        "    def __init__(self, search_doc, matches=None):\n",
        "        self.search_doc = search_doc\n",
        "        self.matches = matches\n",
        "        self.orig_func = pyrender.Viewer._init_and_start_app\n",
        "        pyrender.Viewer._init_and_start_app = _init_and_start_app\n",
        "\n",
        "    def visualize(self):\n",
        "        self.add(self.search_doc.uri, 'Query Doc')\n",
        "        if self.matches:\n",
        "            for i, match in enumerate(self.matches, start=1):\n",
        "                self.add(match.uri, f'Top {i} Match')\n",
        "        pyglet.app.run()\n",
        "\n",
        "    def add(self, uri, title):\n",
        "        fuze_trimesh = as_mesh(trimesh.load(uri))\n",
        "        mesh = pyrender.Mesh.from_trimesh(fuze_trimesh)\n",
        "        scene = pyrender.Scene()\n",
        "        scene.add(mesh)\n",
        "\n",
        "        pyrender.Viewer(\n",
        "            scene,\n",
        "            use_raymond_lighting=True,\n",
        "            viewer_flags={\n",
        "                'rotate': True,\n",
        "                'window_title': title, \n",
        "                'caption': [{\n",
        "                    'font_name': 'OpenSans-Regular',\n",
        "                    'font_pt': 30,\n",
        "                    'color': None,\n",
        "                    'scale': 1.0,\n",
        "                    'location': 4,\n",
        "                    'text': title\n",
        "                }]\n",
        "            },\n",
        "        )\n",
        "        \n",
        "    def __del__(self):\n",
        "        pyrender.Viewer._init_and_start_app = self.orig_func"
      ]
    },
    {
      "cell_type": "markdown",
      "id": "66d1b115-e496-40e1-a7de-1c3eee9469c9",
      "metadata": {
        "id": "66d1b115-e496-40e1-a7de-1c3eee9469c9"
      },
      "source": [
        "The visualizer uses `pyrender` to render the query and match results.\n",
        "Since we want to display multiple models at once, we need to patch the `_init_and_start_app` function to delay the start of pyrender app after all viewers are initialized.\n",
        "\n",
        "\n",
        "## Index, Search and Visualize Data\n",
        "\n",
        "Download the pre-trained PNEncoder model [here](https://github.com/jina-ai/example-3D-model/tree/main/executors/pn_encoder/ckpt) into `model/ckpt`.\n",
        "Also, store your index/search data in `data/`.\n",
        "We can then put the executors into a flow and use the flow to perform indexing and searching.\n",
        "Finally, we use the `GlbVisualizer` built earlier to visualize our data.\n"
      ]
    },
    {
      "cell_type": "markdown",
      "id": "7b597d1a-bbde-4af9-a49d-5b478fdf070b",
      "metadata": {
        "id": "7b597d1a-bbde-4af9-a49d-5b478fdf070b"
      },
      "source": [
        "<div class=\"alert alert-block alert-info\">\n",
        "<b>Getting data:</b> If you dont have .glb data already, you can download some samples from here (https://shapenet.org/), after creating a free account.</div>"
      ]
    },
    {
      "cell_type": "code",
      "execution_count": 9,
      "id": "7bfac25f-8c59-4856-bcb2-e813360491b4",
      "metadata": {
        "id": "7bfac25f-8c59-4856-bcb2-e813360491b4",
        "outputId": "324637d5-847b-486a-ac0b-cc5891506643",
        "colab": {
          "base_uri": "https://localhost:8080/",
          "height": 1000,
          "referenced_widgets": [
            "b5f4365c542a4e5b951be766243757b5",
            "c4baf7a20d4d45099ea5021400e26555"
          ]
        }
      },
      "outputs": [
        {
          "output_type": "display_data",
          "data": {
            "text/plain": [
              "\u001b[?25l"
            ],
            "text/html": [
              "<pre style=\"white-space:pre;overflow-x:auto;line-height:normal;font-family:Menlo,'DejaVu Sans Mono',consolas,'Courier New',monospace\"></pre>\n"
            ]
          },
          "metadata": {}
        },
        {
          "output_type": "display_data",
          "data": {
            "text/plain": [
              "Output()"
            ],
            "application/vnd.jupyter.widget-view+json": {
              "version_major": 2,
              "version_minor": 0,
              "model_id": "b5f4365c542a4e5b951be766243757b5"
            }
          },
          "metadata": {}
        },
        {
          "output_type": "stream",
          "name": "stdout",
          "text": [
            "\u001b[1m\u001b[31mexecutor1/rep-0@523[C]:can not load the executor from PNEncoder\u001b[0m\n",
            "\u001b[31mexecutor1/rep-0@523[E]:ExecutorFailToLoad() during <class 'jina.serve.runtimes.worker.WorkerRuntime'> initialization\n",
            " add \"--quiet-error\" to suppress the exception details\u001b[0m\n",
            "Traceback (most recent call last):\n",
            "  File \"/usr/local/lib/python3.7/dist-packages/jina/serve/runtimes/request_handlers/data_request_handler.py\", line 49, in _load_executor\n",
            "    extra_search_paths=self.args.extra_search_paths,\n",
            "  File \"/usr/local/lib/python3.7/dist-packages/jina/jaml/__init__.py\", line 726, in load_config\n",
            "    return JAML.load(tag_yml, substitute=False)\n",
            "  File \"/usr/local/lib/python3.7/dist-packages/jina/jaml/__init__.py\", line 166, in load\n",
            "    r = yaml.load(stream, Loader=JinaLoader)\n",
            "  File \"/usr/local/lib/python3.7/dist-packages/yaml/__init__.py\", line 81, in load\n",
            "    return loader.get_single_data()\n",
            "  File \"/usr/local/lib/python3.7/dist-packages/yaml/constructor.py\", line 51, in get_single_data\n",
            "    return self.construct_document(node)\n",
            "  File \"/usr/local/lib/python3.7/dist-packages/yaml/constructor.py\", line 55, in construct_document\n",
            "    data = self.construct_object(node)\n",
            "  File \"/usr/local/lib/python3.7/dist-packages/yaml/constructor.py\", line 100, in construct_object\n",
            "    data = constructor(self, node)\n",
            "  File \"/usr/local/lib/python3.7/dist-packages/jina/jaml/__init__.py\", line 565, in _from_yaml\n",
            "    return get_parser(cls, version=data.get('version', None)).parse(cls, data)\n",
            "  File \"/usr/local/lib/python3.7/dist-packages/jina/jaml/parsers/executor/legacy.py\", line 73, in parse\n",
            "    runtime_args=data.get('runtime_args', {}),\n",
            "  File \"/usr/local/lib/python3.7/dist-packages/jina/serve/executors/decorators.py\", line 60, in arg_wrapper\n",
            "    f = func(self, *args, **kwargs)\n",
            "  File \"<ipython-input-3-3592e81d472f>\", line 4, in __init__\n",
            "    self.embedding_model = get_model(ckpt_path=ckpt_path)\n",
            "  File \"<ipython-input-2-8cebc4abc59f>\", line 69, in get_model\n",
            "    intermediate_layer_model.load_weights(ckpt_path)\n",
            "  File \"/usr/local/lib/python3.7/dist-packages/keras/utils/traceback_utils.py\", line 67, in error_handler\n",
            "    raise e.with_traceback(filtered_tb) from None\n",
            "  File \"/usr/local/lib/python3.7/dist-packages/tensorflow/python/training/py_checkpoint_reader.py\", line 31, in error_translator\n",
            "    raise errors_impl.NotFoundError(None, None, error_message)\n",
            "tensorflow.python.framework.errors_impl.NotFoundError: Unsuccessful TensorSliceReader constructor: Failed to find any matching files for model/ckpt/ckpt_True\n",
            "\n",
            "The above exception was the direct cause of the following exception:\n",
            "\n",
            "Traceback (most recent call last):\n",
            "  File \"/usr/local/lib/python3.7/dist-packages/jina/orchestrate/pods/__init__.py\", line 83, in run\n",
            "    cancel_event=cancel_event,\n",
            "  File \"/usr/local/lib/python3.7/dist-packages/jina/serve/runtimes/worker/__init__.py\", line 36, in __init__\n",
            "    self._data_request_handler = DataRequestHandler(args, self.logger)\n",
            "  File \"/usr/local/lib/python3.7/dist-packages/jina/serve/runtimes/request_handlers/data_request_handler.py\", line 31, in __init__\n",
            "    self._load_executor()\n",
            "  File \"/usr/local/lib/python3.7/dist-packages/jina/serve/runtimes/request_handlers/data_request_handler.py\", line 62, in _load_executor\n",
            "    raise ExecutorFailToLoad from ex\n",
            "jina.excepts.ExecutorFailToLoad\n",
            "\u001b[31m           Flow@288[E]:Flow is aborted due to ['executor1'] can not be started.\u001b[0m\n"
          ]
        },
        {
          "output_type": "display_data",
          "data": {
            "text/plain": [
              "\n",
              "\u001b[?25h\r\u001b[1A\u001b[2K"
            ],
            "text/html": [
              "<pre style=\"white-space:pre;overflow-x:auto;line-height:normal;font-family:Menlo,'DejaVu Sans Mono',consolas,'Courier New',monospace\">\n",
              "</pre>\n"
            ]
          },
          "metadata": {}
        },
        {
          "output_type": "display_data",
          "data": {
            "text/plain": [
              "\u001b[31m╭─\u001b[0m\u001b[31m─────────────────────────── \u001b[0m\u001b[1;31mTraceback \u001b[0m\u001b[1;2;31m(most recent call last)\u001b[0m\u001b[31m ───────────────────────────\u001b[0m\u001b[31m─╮\u001b[0m\n",
              "\u001b[31m│\u001b[0m                                                                                           \u001b[31m│\u001b[0m\n",
              "\u001b[31m│\u001b[0m \u001b[2;33m/usr/local/lib/python3.7/dist-packages/IPython/core/\u001b[0m\u001b[1;33minteractiveshell.py\u001b[0m:\u001b[94m2882\u001b[0m in \u001b[92mrun_code\u001b[0m  \u001b[31m│\u001b[0m\n",
              "\u001b[31m│\u001b[0m                                                                                           \u001b[31m│\u001b[0m\n",
              "\u001b[31m│\u001b[0m   \u001b[2m2879 \u001b[0m\u001b[2m│   │   │   \u001b[0m\u001b[94mtry\u001b[0m:                                                                   \u001b[31m│\u001b[0m\n",
              "\u001b[31m│\u001b[0m   \u001b[2m2880 \u001b[0m\u001b[2m│   │   │   │   \u001b[0m\u001b[96mself\u001b[0m.hooks.pre_run_code_hook()                                     \u001b[31m│\u001b[0m\n",
              "\u001b[31m│\u001b[0m   \u001b[2m2881 \u001b[0m\u001b[2m│   │   │   │   \u001b[0m\u001b[2m#rprint('Running code', repr(code_obj)) # dbg\u001b[0m                      \u001b[31m│\u001b[0m\n",
              "\u001b[31m│\u001b[0m \u001b[31m❱ \u001b[0m2882 \u001b[2m│   │   │   │   \u001b[0mexec(code_obj, \u001b[96mself\u001b[0m.user_global_ns, \u001b[96mself\u001b[0m.user_ns)                  \u001b[31m│\u001b[0m\n",
              "\u001b[31m│\u001b[0m   \u001b[2m2883 \u001b[0m\u001b[2m│   │   │   \u001b[0m\u001b[94mfinally\u001b[0m:                                                               \u001b[31m│\u001b[0m\n",
              "\u001b[31m│\u001b[0m   \u001b[2m2884 \u001b[0m\u001b[2m│   │   │   │   \u001b[0m\u001b[2m# Reset our crash handler in place\u001b[0m                                 \u001b[31m│\u001b[0m\n",
              "\u001b[31m│\u001b[0m   \u001b[2m2885 \u001b[0m\u001b[2m│   │   │   │   \u001b[0msys.excepthook = old_excepthook                                    \u001b[31m│\u001b[0m\n",
              "\u001b[31m│\u001b[0m \u001b[33m<ipython-input-9-560c91677931>\u001b[0m:\u001b[94m3\u001b[0m in \u001b[92m<module>\u001b[0m                                              \u001b[31m│\u001b[0m\n",
              "\u001b[31m│\u001b[0m                                                                                           \u001b[31m│\u001b[0m\n",
              "\u001b[31m│\u001b[0m \u001b[2;33m/usr/local/lib/python3.7/dist-packages/jina/orchestrate/flow/\u001b[0m\u001b[1;33mbase.py\u001b[0m:\u001b[94m1075\u001b[0m in \u001b[92m__enter__\u001b[0m    \u001b[31m│\u001b[0m\n",
              "\u001b[31m│\u001b[0m                                                                                           \u001b[31m│\u001b[0m\n",
              "\u001b[31m│\u001b[0m   \u001b[2m1072 \u001b[0m\u001b[2m│   \u001b[0m                                                                               \u001b[31m│\u001b[0m\n",
              "\u001b[31m│\u001b[0m   \u001b[2m1073 \u001b[0m\u001b[2m│   \u001b[0m\u001b[94mdef\u001b[0m \u001b[92m__enter__\u001b[0m(\u001b[96mself\u001b[0m):                                                           \u001b[31m│\u001b[0m\n",
              "\u001b[31m│\u001b[0m   \u001b[2m1074 \u001b[0m\u001b[2m│   │   \u001b[0m\u001b[94mwith\u001b[0m CatchAllCleanupContextManager(\u001b[96mself\u001b[0m):                                  \u001b[31m│\u001b[0m\n",
              "\u001b[31m│\u001b[0m \u001b[31m❱ \u001b[0m1075 \u001b[2m│   │   │   \u001b[0m\u001b[94mreturn\u001b[0m \u001b[96mself\u001b[0m.start()                                                    \u001b[31m│\u001b[0m\n",
              "\u001b[31m│\u001b[0m   \u001b[2m1076 \u001b[0m\u001b[2m│   \u001b[0m                                                                               \u001b[31m│\u001b[0m\n",
              "\u001b[31m│\u001b[0m   \u001b[2m1077 \u001b[0m\u001b[2m│   \u001b[0m\u001b[94mdef\u001b[0m \u001b[92m__exit__\u001b[0m(\u001b[96mself\u001b[0m, exc_type, exc_val, exc_tb):                                 \u001b[31m│\u001b[0m\n",
              "\u001b[31m│\u001b[0m   \u001b[2m1078 \u001b[0m\u001b[2m│   │   \u001b[0m\u001b[94mif\u001b[0m \u001b[96mhasattr\u001b[0m(\u001b[96mself\u001b[0m, \u001b[33m'\u001b[0m\u001b[33m_stop_event\u001b[0m\u001b[33m'\u001b[0m):                                           \u001b[31m│\u001b[0m\n",
              "\u001b[31m│\u001b[0m                                                                                           \u001b[31m│\u001b[0m\n",
              "\u001b[31m│\u001b[0m \u001b[2;33m/usr/local/lib/python3.7/dist-packages/jina/orchestrate/flow/\u001b[0m\u001b[1;33mbase.py\u001b[0m:\u001b[94m1122\u001b[0m in \u001b[92mstart\u001b[0m        \u001b[31m│\u001b[0m\n",
              "\u001b[31m│\u001b[0m                                                                                           \u001b[31m│\u001b[0m\n",
              "\u001b[31m│\u001b[0m   \u001b[2m1119 \u001b[0m\u001b[2m│   │   │   \u001b[0m\u001b[94mif\u001b[0m \u001b[95mnot\u001b[0m v.external:                                                     \u001b[31m│\u001b[0m\n",
              "\u001b[31m│\u001b[0m   \u001b[2m1120 \u001b[0m\u001b[2m│   │   │   │   \u001b[0m\u001b[96mself\u001b[0m.enter_context(v)                                              \u001b[31m│\u001b[0m\n",
              "\u001b[31m│\u001b[0m   \u001b[2m1121 \u001b[0m\u001b[2m│   │   \u001b[0m                                                                           \u001b[31m│\u001b[0m\n",
              "\u001b[31m│\u001b[0m \u001b[31m❱ \u001b[0m1122 \u001b[2m│   │   \u001b[0m\u001b[96mself\u001b[0m._wait_until_all_ready()                                               \u001b[31m│\u001b[0m\n",
              "\u001b[31m│\u001b[0m   \u001b[2m1123 \u001b[0m\u001b[2m│   │   \u001b[0m                                                                           \u001b[31m│\u001b[0m\n",
              "\u001b[31m│\u001b[0m   \u001b[2m1124 \u001b[0m\u001b[2m│   │   \u001b[0m\u001b[96mself\u001b[0m._build_level = FlowBuildLevel.RUNNING                                 \u001b[31m│\u001b[0m\n",
              "\u001b[31m│\u001b[0m   \u001b[2m1125 \u001b[0m                                                                                   \u001b[31m│\u001b[0m\n",
              "\u001b[31m│\u001b[0m                                                                                           \u001b[31m│\u001b[0m\n",
              "\u001b[31m│\u001b[0m \u001b[2;33m/usr/local/lib/python3.7/dist-packages/jina/orchestrate/flow/\u001b[0m\u001b[1;33mbase.py\u001b[0m:\u001b[94m1202\u001b[0m in              \u001b[31m│\u001b[0m\n",
              "\u001b[31m│\u001b[0m \u001b[92m_wait_until_all_ready\u001b[0m                                                                     \u001b[31m│\u001b[0m\n",
              "\u001b[31m│\u001b[0m                                                                                           \u001b[31m│\u001b[0m\n",
              "\u001b[31m│\u001b[0m   \u001b[2m1199 \u001b[0m\u001b[2m│   │   │   │   │   \u001b[0m\u001b[33mf\u001b[0m\u001b[33m'\u001b[0m\u001b[33mFlow is aborted due to \u001b[0m\u001b[33m{\u001b[0merror_deployments\u001b[33m}\u001b[0m\u001b[33m can not be starte\u001b[0m \u001b[31m│\u001b[0m\n",
              "\u001b[31m│\u001b[0m   \u001b[2m1200 \u001b[0m\u001b[2m│   │   │   │   \u001b[0m)                                                                  \u001b[31m│\u001b[0m\n",
              "\u001b[31m│\u001b[0m   \u001b[2m1201 \u001b[0m\u001b[2m│   │   │   │   \u001b[0m\u001b[96mself\u001b[0m.close()                                                       \u001b[31m│\u001b[0m\n",
              "\u001b[31m│\u001b[0m \u001b[31m❱ \u001b[0m1202 \u001b[2m│   │   │   │   \u001b[0m\u001b[94mraise\u001b[0m RuntimeFailToStart                                           \u001b[31m│\u001b[0m\n",
              "\u001b[31m│\u001b[0m   \u001b[2m1203 \u001b[0m\u001b[2m│   │   \u001b[0m                                                                           \u001b[31m│\u001b[0m\n",
              "\u001b[31m│\u001b[0m   \u001b[2m1204 \u001b[0m\u001b[2m│   │   \u001b[0m\u001b[94mif\u001b[0m addr_table:                                                             \u001b[31m│\u001b[0m\n",
              "\u001b[31m│\u001b[0m   \u001b[2m1205 \u001b[0m\u001b[2m│   │   │   \u001b[0m\u001b[96mprint\u001b[0m(                                                                 \u001b[31m│\u001b[0m\n",
              "\u001b[31m╰───────────────────────────────────────────────────────────────────────────────────────────╯\u001b[0m\n",
              "\u001b[1;91mRuntimeFailToStart\u001b[0m\n"
            ],
            "text/html": [
              "<pre style=\"white-space:pre;overflow-x:auto;line-height:normal;font-family:Menlo,'DejaVu Sans Mono',consolas,'Courier New',monospace\"><span style=\"color: #800000; text-decoration-color: #800000\">╭──────────────────────────── </span><span style=\"color: #800000; text-decoration-color: #800000; font-weight: bold\">Traceback </span><span style=\"color: #bf7f7f; text-decoration-color: #bf7f7f; font-weight: bold\">(most recent call last)</span><span style=\"color: #800000; text-decoration-color: #800000\"> ────────────────────────────╮</span>\n",
              "<span style=\"color: #800000; text-decoration-color: #800000\">│</span>                                                                                           <span style=\"color: #800000; text-decoration-color: #800000\">│</span>\n",
              "<span style=\"color: #800000; text-decoration-color: #800000\">│</span> <span style=\"color: #bfbf7f; text-decoration-color: #bfbf7f\">/usr/local/lib/python3.7/dist-packages/IPython/core/</span><span style=\"color: #808000; text-decoration-color: #808000; font-weight: bold\">interactiveshell.py</span>:<span style=\"color: #0000ff; text-decoration-color: #0000ff\">2882</span> in <span style=\"color: #00ff00; text-decoration-color: #00ff00\">run_code</span>  <span style=\"color: #800000; text-decoration-color: #800000\">│</span>\n",
              "<span style=\"color: #800000; text-decoration-color: #800000\">│</span>                                                                                           <span style=\"color: #800000; text-decoration-color: #800000\">│</span>\n",
              "<span style=\"color: #800000; text-decoration-color: #800000\">│</span>   <span style=\"color: #7f7f7f; text-decoration-color: #7f7f7f\">2879 │   │   │   </span><span style=\"color: #0000ff; text-decoration-color: #0000ff\">try</span>:                                                                   <span style=\"color: #800000; text-decoration-color: #800000\">│</span>\n",
              "<span style=\"color: #800000; text-decoration-color: #800000\">│</span>   <span style=\"color: #7f7f7f; text-decoration-color: #7f7f7f\">2880 │   │   │   │   </span><span style=\"color: #00ffff; text-decoration-color: #00ffff\">self</span>.hooks.pre_run_code_hook()                                     <span style=\"color: #800000; text-decoration-color: #800000\">│</span>\n",
              "<span style=\"color: #800000; text-decoration-color: #800000\">│</span>   <span style=\"color: #7f7f7f; text-decoration-color: #7f7f7f\">2881 │   │   │   │   #rprint('Running code', repr(code_obj)) # dbg</span>                      <span style=\"color: #800000; text-decoration-color: #800000\">│</span>\n",
              "<span style=\"color: #800000; text-decoration-color: #800000\">│</span> <span style=\"color: #800000; text-decoration-color: #800000\">❱ </span>2882 <span style=\"color: #7f7f7f; text-decoration-color: #7f7f7f\">│   │   │   │   </span>exec(code_obj, <span style=\"color: #00ffff; text-decoration-color: #00ffff\">self</span>.user_global_ns, <span style=\"color: #00ffff; text-decoration-color: #00ffff\">self</span>.user_ns)                  <span style=\"color: #800000; text-decoration-color: #800000\">│</span>\n",
              "<span style=\"color: #800000; text-decoration-color: #800000\">│</span>   <span style=\"color: #7f7f7f; text-decoration-color: #7f7f7f\">2883 │   │   │   </span><span style=\"color: #0000ff; text-decoration-color: #0000ff\">finally</span>:                                                               <span style=\"color: #800000; text-decoration-color: #800000\">│</span>\n",
              "<span style=\"color: #800000; text-decoration-color: #800000\">│</span>   <span style=\"color: #7f7f7f; text-decoration-color: #7f7f7f\">2884 │   │   │   │   # Reset our crash handler in place</span>                                 <span style=\"color: #800000; text-decoration-color: #800000\">│</span>\n",
              "<span style=\"color: #800000; text-decoration-color: #800000\">│</span>   <span style=\"color: #7f7f7f; text-decoration-color: #7f7f7f\">2885 │   │   │   │   </span>sys.excepthook = old_excepthook                                    <span style=\"color: #800000; text-decoration-color: #800000\">│</span>\n",
              "<span style=\"color: #800000; text-decoration-color: #800000\">│</span> <span style=\"color: #808000; text-decoration-color: #808000\">&lt;ipython-input-9-560c91677931&gt;</span>:<span style=\"color: #0000ff; text-decoration-color: #0000ff\">3</span> in <span style=\"color: #00ff00; text-decoration-color: #00ff00\">&lt;module&gt;</span>                                              <span style=\"color: #800000; text-decoration-color: #800000\">│</span>\n",
              "<span style=\"color: #800000; text-decoration-color: #800000\">│</span>                                                                                           <span style=\"color: #800000; text-decoration-color: #800000\">│</span>\n",
              "<span style=\"color: #800000; text-decoration-color: #800000\">│</span> <span style=\"color: #bfbf7f; text-decoration-color: #bfbf7f\">/usr/local/lib/python3.7/dist-packages/jina/orchestrate/flow/</span><span style=\"color: #808000; text-decoration-color: #808000; font-weight: bold\">base.py</span>:<span style=\"color: #0000ff; text-decoration-color: #0000ff\">1075</span> in <span style=\"color: #00ff00; text-decoration-color: #00ff00\">__enter__</span>    <span style=\"color: #800000; text-decoration-color: #800000\">│</span>\n",
              "<span style=\"color: #800000; text-decoration-color: #800000\">│</span>                                                                                           <span style=\"color: #800000; text-decoration-color: #800000\">│</span>\n",
              "<span style=\"color: #800000; text-decoration-color: #800000\">│</span>   <span style=\"color: #7f7f7f; text-decoration-color: #7f7f7f\">1072 │   </span>                                                                               <span style=\"color: #800000; text-decoration-color: #800000\">│</span>\n",
              "<span style=\"color: #800000; text-decoration-color: #800000\">│</span>   <span style=\"color: #7f7f7f; text-decoration-color: #7f7f7f\">1073 │   </span><span style=\"color: #0000ff; text-decoration-color: #0000ff\">def</span> <span style=\"color: #00ff00; text-decoration-color: #00ff00\">__enter__</span>(<span style=\"color: #00ffff; text-decoration-color: #00ffff\">self</span>):                                                           <span style=\"color: #800000; text-decoration-color: #800000\">│</span>\n",
              "<span style=\"color: #800000; text-decoration-color: #800000\">│</span>   <span style=\"color: #7f7f7f; text-decoration-color: #7f7f7f\">1074 │   │   </span><span style=\"color: #0000ff; text-decoration-color: #0000ff\">with</span> CatchAllCleanupContextManager(<span style=\"color: #00ffff; text-decoration-color: #00ffff\">self</span>):                                  <span style=\"color: #800000; text-decoration-color: #800000\">│</span>\n",
              "<span style=\"color: #800000; text-decoration-color: #800000\">│</span> <span style=\"color: #800000; text-decoration-color: #800000\">❱ </span>1075 <span style=\"color: #7f7f7f; text-decoration-color: #7f7f7f\">│   │   │   </span><span style=\"color: #0000ff; text-decoration-color: #0000ff\">return</span> <span style=\"color: #00ffff; text-decoration-color: #00ffff\">self</span>.start()                                                    <span style=\"color: #800000; text-decoration-color: #800000\">│</span>\n",
              "<span style=\"color: #800000; text-decoration-color: #800000\">│</span>   <span style=\"color: #7f7f7f; text-decoration-color: #7f7f7f\">1076 │   </span>                                                                               <span style=\"color: #800000; text-decoration-color: #800000\">│</span>\n",
              "<span style=\"color: #800000; text-decoration-color: #800000\">│</span>   <span style=\"color: #7f7f7f; text-decoration-color: #7f7f7f\">1077 │   </span><span style=\"color: #0000ff; text-decoration-color: #0000ff\">def</span> <span style=\"color: #00ff00; text-decoration-color: #00ff00\">__exit__</span>(<span style=\"color: #00ffff; text-decoration-color: #00ffff\">self</span>, exc_type, exc_val, exc_tb):                                 <span style=\"color: #800000; text-decoration-color: #800000\">│</span>\n",
              "<span style=\"color: #800000; text-decoration-color: #800000\">│</span>   <span style=\"color: #7f7f7f; text-decoration-color: #7f7f7f\">1078 │   │   </span><span style=\"color: #0000ff; text-decoration-color: #0000ff\">if</span> <span style=\"color: #00ffff; text-decoration-color: #00ffff\">hasattr</span>(<span style=\"color: #00ffff; text-decoration-color: #00ffff\">self</span>, <span style=\"color: #808000; text-decoration-color: #808000\">'_stop_event'</span>):                                           <span style=\"color: #800000; text-decoration-color: #800000\">│</span>\n",
              "<span style=\"color: #800000; text-decoration-color: #800000\">│</span>                                                                                           <span style=\"color: #800000; text-decoration-color: #800000\">│</span>\n",
              "<span style=\"color: #800000; text-decoration-color: #800000\">│</span> <span style=\"color: #bfbf7f; text-decoration-color: #bfbf7f\">/usr/local/lib/python3.7/dist-packages/jina/orchestrate/flow/</span><span style=\"color: #808000; text-decoration-color: #808000; font-weight: bold\">base.py</span>:<span style=\"color: #0000ff; text-decoration-color: #0000ff\">1122</span> in <span style=\"color: #00ff00; text-decoration-color: #00ff00\">start</span>        <span style=\"color: #800000; text-decoration-color: #800000\">│</span>\n",
              "<span style=\"color: #800000; text-decoration-color: #800000\">│</span>                                                                                           <span style=\"color: #800000; text-decoration-color: #800000\">│</span>\n",
              "<span style=\"color: #800000; text-decoration-color: #800000\">│</span>   <span style=\"color: #7f7f7f; text-decoration-color: #7f7f7f\">1119 │   │   │   </span><span style=\"color: #0000ff; text-decoration-color: #0000ff\">if</span> <span style=\"color: #ff00ff; text-decoration-color: #ff00ff\">not</span> v.external:                                                     <span style=\"color: #800000; text-decoration-color: #800000\">│</span>\n",
              "<span style=\"color: #800000; text-decoration-color: #800000\">│</span>   <span style=\"color: #7f7f7f; text-decoration-color: #7f7f7f\">1120 │   │   │   │   </span><span style=\"color: #00ffff; text-decoration-color: #00ffff\">self</span>.enter_context(v)                                              <span style=\"color: #800000; text-decoration-color: #800000\">│</span>\n",
              "<span style=\"color: #800000; text-decoration-color: #800000\">│</span>   <span style=\"color: #7f7f7f; text-decoration-color: #7f7f7f\">1121 │   │   </span>                                                                           <span style=\"color: #800000; text-decoration-color: #800000\">│</span>\n",
              "<span style=\"color: #800000; text-decoration-color: #800000\">│</span> <span style=\"color: #800000; text-decoration-color: #800000\">❱ </span>1122 <span style=\"color: #7f7f7f; text-decoration-color: #7f7f7f\">│   │   </span><span style=\"color: #00ffff; text-decoration-color: #00ffff\">self</span>._wait_until_all_ready()                                               <span style=\"color: #800000; text-decoration-color: #800000\">│</span>\n",
              "<span style=\"color: #800000; text-decoration-color: #800000\">│</span>   <span style=\"color: #7f7f7f; text-decoration-color: #7f7f7f\">1123 │   │   </span>                                                                           <span style=\"color: #800000; text-decoration-color: #800000\">│</span>\n",
              "<span style=\"color: #800000; text-decoration-color: #800000\">│</span>   <span style=\"color: #7f7f7f; text-decoration-color: #7f7f7f\">1124 │   │   </span><span style=\"color: #00ffff; text-decoration-color: #00ffff\">self</span>._build_level = FlowBuildLevel.RUNNING                                 <span style=\"color: #800000; text-decoration-color: #800000\">│</span>\n",
              "<span style=\"color: #800000; text-decoration-color: #800000\">│</span>   <span style=\"color: #7f7f7f; text-decoration-color: #7f7f7f\">1125 </span>                                                                                   <span style=\"color: #800000; text-decoration-color: #800000\">│</span>\n",
              "<span style=\"color: #800000; text-decoration-color: #800000\">│</span>                                                                                           <span style=\"color: #800000; text-decoration-color: #800000\">│</span>\n",
              "<span style=\"color: #800000; text-decoration-color: #800000\">│</span> <span style=\"color: #bfbf7f; text-decoration-color: #bfbf7f\">/usr/local/lib/python3.7/dist-packages/jina/orchestrate/flow/</span><span style=\"color: #808000; text-decoration-color: #808000; font-weight: bold\">base.py</span>:<span style=\"color: #0000ff; text-decoration-color: #0000ff\">1202</span> in              <span style=\"color: #800000; text-decoration-color: #800000\">│</span>\n",
              "<span style=\"color: #800000; text-decoration-color: #800000\">│</span> <span style=\"color: #00ff00; text-decoration-color: #00ff00\">_wait_until_all_ready</span>                                                                     <span style=\"color: #800000; text-decoration-color: #800000\">│</span>\n",
              "<span style=\"color: #800000; text-decoration-color: #800000\">│</span>                                                                                           <span style=\"color: #800000; text-decoration-color: #800000\">│</span>\n",
              "<span style=\"color: #800000; text-decoration-color: #800000\">│</span>   <span style=\"color: #7f7f7f; text-decoration-color: #7f7f7f\">1199 │   │   │   │   │   </span><span style=\"color: #808000; text-decoration-color: #808000\">f'Flow is aborted due to {</span>error_deployments<span style=\"color: #808000; text-decoration-color: #808000\">} can not be starte</span> <span style=\"color: #800000; text-decoration-color: #800000\">│</span>\n",
              "<span style=\"color: #800000; text-decoration-color: #800000\">│</span>   <span style=\"color: #7f7f7f; text-decoration-color: #7f7f7f\">1200 │   │   │   │   </span>)                                                                  <span style=\"color: #800000; text-decoration-color: #800000\">│</span>\n",
              "<span style=\"color: #800000; text-decoration-color: #800000\">│</span>   <span style=\"color: #7f7f7f; text-decoration-color: #7f7f7f\">1201 │   │   │   │   </span><span style=\"color: #00ffff; text-decoration-color: #00ffff\">self</span>.close()                                                       <span style=\"color: #800000; text-decoration-color: #800000\">│</span>\n",
              "<span style=\"color: #800000; text-decoration-color: #800000\">│</span> <span style=\"color: #800000; text-decoration-color: #800000\">❱ </span>1202 <span style=\"color: #7f7f7f; text-decoration-color: #7f7f7f\">│   │   │   │   </span><span style=\"color: #0000ff; text-decoration-color: #0000ff\">raise</span> RuntimeFailToStart                                           <span style=\"color: #800000; text-decoration-color: #800000\">│</span>\n",
              "<span style=\"color: #800000; text-decoration-color: #800000\">│</span>   <span style=\"color: #7f7f7f; text-decoration-color: #7f7f7f\">1203 │   │   </span>                                                                           <span style=\"color: #800000; text-decoration-color: #800000\">│</span>\n",
              "<span style=\"color: #800000; text-decoration-color: #800000\">│</span>   <span style=\"color: #7f7f7f; text-decoration-color: #7f7f7f\">1204 │   │   </span><span style=\"color: #0000ff; text-decoration-color: #0000ff\">if</span> addr_table:                                                             <span style=\"color: #800000; text-decoration-color: #800000\">│</span>\n",
              "<span style=\"color: #800000; text-decoration-color: #800000\">│</span>   <span style=\"color: #7f7f7f; text-decoration-color: #7f7f7f\">1205 │   │   │   </span><span style=\"color: #00ffff; text-decoration-color: #00ffff\">print</span>(                                                                 <span style=\"color: #800000; text-decoration-color: #800000\">│</span>\n",
              "<span style=\"color: #800000; text-decoration-color: #800000\">╰───────────────────────────────────────────────────────────────────────────────────────────╯</span>\n",
              "<span style=\"color: #ff0000; text-decoration-color: #ff0000; font-weight: bold\">RuntimeFailToStart</span>\n",
              "</pre>\n"
            ]
          },
          "metadata": {}
        }
      ],
      "source": [
        "from jina import Flow\n",
        "\n",
        "with Flow().add(uses=GlbCrafter).add(uses=PNEncoder, uses_with={'ckpt_path': 'model/ckpt/ckpt_True'}).add(uses=MyIndexer) as f:\n",
        "    f.index(DocumentArray.from_files('data/*.glb'))\n",
        "    results = f.search(Document(uri='data/ShapeNetV2_airplane_aeroplane_plane_0.glb'), return_results=True)\n",
        "    doc = results[0]\n",
        "    # visualize top 3 matches, since we also index query doc, exclude the top 1 match as it is the query doc\n",
        "    visualizer = GlbVisualizer(doc, matches=doc.matches).visualize()"
      ]
    },
    {
      "cell_type": "markdown",
      "id": "76fadb10-d299-4d5d-a542-df220cf8af1d",
      "metadata": {
        "id": "76fadb10-d299-4d5d-a542-df220cf8af1d"
      },
      "source": [
        "This is how the flow we built looks like:\n",
        "![flow](https://github.com/jina-ai/tutorial-notebooks/blob/main/3D_mesh/flow.png?raw=1)"
      ]
    },
    {
      "cell_type": "markdown",
      "id": "42f3a513-1d8c-4192-affa-5cb51bc3f108",
      "metadata": {
        "id": "42f3a513-1d8c-4192-affa-5cb51bc3f108"
      },
      "source": [
        "## Results\n",
        "\n",
        "Now let's take a look at the search results! Below is the `rifle_16.glb` 3D model we would like to search for:\n",
        "\n",
        "![Query doc](https://github.com/jina-ai/tutorial-notebooks/blob/main/3D_mesh/query_doc.gif?raw=1)\n",
        "\n",
        "\n",
        "And the following are the top 3 matches:\n",
        "\n",
        "![Top 1](https://github.com/jina-ai/tutorial-notebooks/blob/main/3D_mesh/top_1.gif?raw=1)\n",
        "\n",
        "![Top 2](https://github.com/jina-ai/tutorial-notebooks/blob/main/3D_mesh/top_2.gif?raw=1)\n",
        "\n",
        "![Top 3](https://github.com/jina-ai/tutorial-notebooks/blob/main/3D_mesh/top_3.gif?raw=1)\n",
        "\n",
        "**Congratulations!** You have just built a 3D Mesh Search Pipeline!"
      ]
    }
  ],
  "metadata": {
    "kernelspec": {
      "display_name": "Python 3 (ipykernel)",
      "language": "python",
      "name": "python3"
    },
    "language_info": {
      "codemirror_mode": {
        "name": "ipython",
        "version": 3
      },
      "file_extension": ".py",
      "mimetype": "text/x-python",
      "name": "python",
      "nbconvert_exporter": "python",
      "pygments_lexer": "ipython3",
      "version": "3.8.10"
    },
    "colab": {
      "name": "mesh-search.ipynb",
      "provenance": []
    },
    "widgets": {
      "application/vnd.jupyter.widget-state+json": {
        "b5f4365c542a4e5b951be766243757b5": {
          "model_module": "@jupyter-widgets/output",
          "model_name": "OutputModel",
          "model_module_version": "1.0.0",
          "state": {
            "_dom_classes": [],
            "_model_module": "@jupyter-widgets/output",
            "_model_module_version": "1.0.0",
            "_model_name": "OutputModel",
            "_view_count": null,
            "_view_module": "@jupyter-widgets/output",
            "_view_module_version": "1.0.0",
            "_view_name": "OutputView",
            "layout": "IPY_MODEL_c4baf7a20d4d45099ea5021400e26555",
            "msg_id": "",
            "outputs": [
              {
                "output_type": "display_data",
                "data": {
                  "text/plain": "\r\u001b[2K\u001b[32m⠸\u001b[0m 3/4 waiting \u001b[33mexecutor1\u001b[0m to be ready...\n\u001b[32m⠸\u001b[0m 3/4 waiting \u001b[33mexecutor1\u001b[0m to be ready...",
                  "text/html": "<pre style=\"white-space:pre;overflow-x:auto;line-height:normal;font-family:Menlo,'DejaVu Sans Mono',consolas,'Courier New',monospace\"><span style=\"color: #008000; text-decoration-color: #008000\">⠸</span> 3/4 waiting <span style=\"color: #808000; text-decoration-color: #808000\">executor1</span> to be ready...\n<span style=\"color: #008000; text-decoration-color: #008000\">⠸</span> 3/4 waiting <span style=\"color: #808000; text-decoration-color: #808000\">executor1</span> to be ready...</pre>\n"
                },
                "metadata": {}
              }
            ]
          }
        },
        "c4baf7a20d4d45099ea5021400e26555": {
          "model_module": "@jupyter-widgets/base",
          "model_name": "LayoutModel",
          "model_module_version": "1.2.0",
          "state": {
            "_model_module": "@jupyter-widgets/base",
            "_model_module_version": "1.2.0",
            "_model_name": "LayoutModel",
            "_view_count": null,
            "_view_module": "@jupyter-widgets/base",
            "_view_module_version": "1.2.0",
            "_view_name": "LayoutView",
            "align_content": null,
            "align_items": null,
            "align_self": null,
            "border": null,
            "bottom": null,
            "display": null,
            "flex": null,
            "flex_flow": null,
            "grid_area": null,
            "grid_auto_columns": null,
            "grid_auto_flow": null,
            "grid_auto_rows": null,
            "grid_column": null,
            "grid_gap": null,
            "grid_row": null,
            "grid_template_areas": null,
            "grid_template_columns": null,
            "grid_template_rows": null,
            "height": null,
            "justify_content": null,
            "justify_items": null,
            "left": null,
            "margin": null,
            "max_height": null,
            "max_width": null,
            "min_height": null,
            "min_width": null,
            "object_fit": null,
            "object_position": null,
            "order": null,
            "overflow": null,
            "overflow_x": null,
            "overflow_y": null,
            "padding": null,
            "right": null,
            "top": null,
            "visibility": null,
            "width": null
          }
        }
      }
    }
  },
  "nbformat": 4,
  "nbformat_minor": 5
}