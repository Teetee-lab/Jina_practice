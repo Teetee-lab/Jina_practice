{
  "cells": [
    {
      "cell_type": "markdown",
      "id": "15a83a7a",
      "metadata": {
        "id": "15a83a7a"
      },
      "source": [
        "# Fuzzy String Matching in 30 Lines"
      ]
    },
    {
      "cell_type": "markdown",
      "id": "156d08dd",
      "metadata": {
        "tags": [],
        "id": "156d08dd"
      },
      "source": [
        "Now that you understand all fundamental concepts, let's practice the learnings and build a simple end-to-end demo.\n",
        "\n",
        "You will use Jina to implement a fuzzy search solution on source code: given a snippet source code and a query, find all lines that are\n",
        "similar to the query. It is like `grep` but in fuzzy mode."
      ]
    },
    {
      "cell_type": "markdown",
      "id": "2043a29d-4104-4a8a-84bb-e5c43f435e17",
      "metadata": {
        "id": "2043a29d-4104-4a8a-84bb-e5c43f435e17"
      },
      "source": [
        "<div class=\"alert alert-block alert-info\">\n",
        "    <b>Preliminaries:</b><br>\n",
        "    <ul>\n",
        "      <li><a href=\"https://en.wikipedia.org/wiki/Word_embedding\"> Character embedding</a></li>\n",
        "      <li><a href=\"https://computersciencewiki.org/index.php/Max-pooling_/_Pooling\"> Pooling</a></li>\n",
        "      <li><a href=\"https://en.wikipedia.org/wiki/Euclidean_distance\"> Euclidean distance</a></li>\n",
        "    </ul>\n",
        "</div>"
      ]
    },
    {
      "cell_type": "markdown",
      "id": "5d68da2f-939f-45ba-9bee-4077ef961f6f",
      "metadata": {
        "tags": [],
        "id": "5d68da2f-939f-45ba-9bee-4077ef961f6f"
      },
      "source": [
        "## Client-Server architecture\n",
        "\n",
        "![Client server architecture diagram](https://github.com/jina-ai/tutorial-notebooks/blob/main/fuzzy-grep/simple-arch.svg?raw=1)\n"
      ]
    },
    {
      "cell_type": "markdown",
      "id": "d71acaed-0726-4c66-a220-2bac67c15042",
      "metadata": {
        "id": "d71acaed-0726-4c66-a220-2bac67c15042"
      },
      "source": [
        "## Server"
      ]
    },
    {
      "cell_type": "markdown",
      "id": "15c618a9-05b0-47a8-b1c2-4ddc95161f42",
      "metadata": {
        "tags": [],
        "id": "15c618a9-05b0-47a8-b1c2-4ddc95161f42"
      },
      "source": [
        "### Character embedding\n",
        "\n",
        "You first need to build a simple Executor for character embedding:"
      ]
    },
    {
      "cell_type": "code",
      "execution_count": null,
      "id": "57235bfb-f20f-49a4-9ba0-179b317526c4",
      "metadata": {
        "id": "57235bfb-f20f-49a4-9ba0-179b317526c4"
      },
      "outputs": [],
      "source": [
        "import numpy as np\n",
        "from docarray import DocumentArray\n",
        "from jina import Executor, requests\n",
        "\n",
        "\n",
        "class CharEmbed(Executor):  # a simple character embedding with mean-pooling\n",
        "    offset = 32  # letter `a`\n",
        "    dim = 127 - offset + 1  # last pos reserved for `UNK`\n",
        "    char_embd = np.eye(dim) * 1  # one-hot embedding for all chars\n",
        "\n",
        "    @requests\n",
        "    def foo(self, docs: DocumentArray, **kwargs):\n",
        "        for d in docs:\n",
        "            r_emb = [ord(c) - self.offset if self.offset <= ord(c) <= 127 else (self.dim - 1) for c in d.text]\n",
        "            d.embedding = self.char_embd[r_emb, :].mean(axis=0)  # average pooling"
      ]
    },
    {
      "cell_type": "markdown",
      "id": "24a487dd-254e-4d1d-aab9-3ff5b5c142ab",
      "metadata": {
        "id": "24a487dd-254e-4d1d-aab9-3ff5b5c142ab"
      },
      "source": [
        "### Indexer with Euclidean distance\n",
        "\n",
        "And you also need a straightforward Indexer to collect and match Documents:"
      ]
    },
    {
      "cell_type": "code",
      "execution_count": null,
      "id": "1acb8c15",
      "metadata": {
        "id": "1acb8c15"
      },
      "outputs": [],
      "source": [
        "from docarray import DocumentArray\n",
        "from jina import Executor, requests\n",
        "\n",
        "\n",
        "class Indexer(Executor):\n",
        "    _docs = DocumentArray()  # for storing all documents in memory\n",
        "\n",
        "    @requests(on='/index')\n",
        "    def foo(self, docs: DocumentArray, **kwargs):\n",
        "        self._docs.extend(docs)  # extend stored `docs`\n",
        "\n",
        "    @requests(on='/search')\n",
        "    def bar(self, docs: DocumentArray, **kwargs):\n",
        "        docs.match(self._docs, metric='euclidean', limit=20)\n"
      ]
    },
    {
      "cell_type": "markdown",
      "id": "dc02cd37",
      "metadata": {
        "id": "dc02cd37"
      },
      "source": [
        "### Put it together in a Flow"
      ]
    },
    {
      "cell_type": "code",
      "execution_count": null,
      "id": "35b51bbe",
      "metadata": {
        "id": "35b51bbe"
      },
      "outputs": [],
      "source": [
        "from jina import Flow\n",
        "\n",
        "f = (Flow(port_expose=12345, protocol='http', cors=True)\n",
        "        .add(uses=CharEmbed, replicas=2)  # two replicas of CharEmbed, for scalability (not crucial in this example)\n",
        "        .add(uses=Indexer))\n"
      ]
    },
    {
      "cell_type": "markdown",
      "id": "13a1b47b",
      "metadata": {
        "id": "13a1b47b"
      },
      "source": [
        "### Start the Flow and index data\n",
        "\n",
        "Now you start the flow and call the `\\index` endpoint, indexing a Document for each line in the source file.\n",
        "The Flow will block, remaining available for outside clients."
      ]
    },
    {
      "cell_type": "code",
      "execution_count": null,
      "id": "8604c6c0",
      "metadata": {
        "id": "8604c6c0"
      },
      "outputs": [],
      "source": [
        "from docarray import Document\n",
        "import os \n",
        "\n",
        "with f:\n",
        "    f.post('/index', (Document(text=t.strip()) for t in open('fuzzy-grep.ipynb') if t.strip()))  # index all lines of _this_ file\n",
        "    f.block()  # block for listening request"
      ]
    },
    {
      "cell_type": "markdown",
      "id": "d383c12e-917f-4786-9b9f-ba3e7ffc13b9",
      "metadata": {
        "id": "d383c12e-917f-4786-9b9f-ba3e7ffc13b9"
      },
      "source": [
        "## Query from Python\n",
        "\n",
        "You can now access the Flow via the Jina Python Client, and search for lines similar to \"request(on=something)\".\n"
      ]
    },
    {
      "cell_type": "code",
      "execution_count": null,
      "id": "08862e0f-a02c-4bdc-8298-e59d0239e77c",
      "metadata": {
        "id": "08862e0f-a02c-4bdc-8298-e59d0239e77c"
      },
      "outputs": [],
      "source": [
        "from docarray import Document\n",
        "from jina import Client\n",
        "\n",
        "\n",
        "def print_matches(resp):  # the callback function invoked when task is done\n",
        "    for idx, d in enumerate(resp.docs[0].matches[:3]):  # print top-3 matches\n",
        "        print(f'[{idx}]{d.scores[\"euclidean\"].value:2f}: \"{d.text}\"')\n",
        "\n",
        "c = Client(protocol='http', port=12345)  # connect to localhost:12345\n",
        "c.post('/search', Document(text='request(on=something)'), on_done=print_matches)"
      ]
    },
    {
      "cell_type": "markdown",
      "id": "72c2a576-5608-40d1-87a1-0e9e08e326b2",
      "metadata": {
        "id": "72c2a576-5608-40d1-87a1-0e9e08e326b2"
      },
      "source": [
        "[0]0.132651: \"\"c.post('/search', Document(text='request(on=something)'), on_done=print_matches)\"\"\n",
        "[1]0.205947: \"\"That means, **we want to find lines from the above code snippet that are most similar to `@request(on=something)`.**\\n\",\"\n",
        "[2]0.210064: \"\"from jina import Executor, requests\\n\",\""
      ]
    },
    {
      "cell_type": "markdown",
      "id": "b5cc9b89",
      "metadata": {
        "id": "b5cc9b89"
      },
      "source": [
        "## Query via SwaggerUI\n",
        "\n",
        "Alternatively, you can send your query through your web browser, using SwaggerUI.\n",
        "\n",
        "First, open `http://localhost:12345/docs` (an extended Swagger UI) in your browser.\n",
        "Here you can see a number of tabs which correspond to the different endpoints exposed by the Flow.\n",
        "Since you want to search for text, click <kbd>/search</kbd> tab and input, then on <kbd>/try it out</kbd>, and enter your\n",
        "query in the following form:\n",
        "\n",
        "```json\n",
        "{\n",
        "  \"data\": [\n",
        "    {\n",
        "      \"text\": \"requests(on=something)\"\n",
        "    }\n",
        "  ]\n",
        "}\n",
        "```\n",
        "\n",
        "That means, **we want to find lines from the above code snippet that are most similar to `@request(on=something)`.**\n",
        "Now, click the <kbd>Execute</kbd> button and you will see a response that includes *matches* and their text entries."
      ]
    }
  ],
  "metadata": {
    "jupytext": {
      "cell_metadata_filter": "-all",
      "main_language": "python",
      "notebook_metadata_filter": "-all"
    },
    "kernelspec": {
      "display_name": "Python 3 (ipykernel)",
      "language": "python",
      "name": "python3"
    },
    "language_info": {
      "codemirror_mode": {
        "name": "ipython",
        "version": 3
      },
      "file_extension": ".py",
      "mimetype": "text/x-python",
      "name": "python",
      "nbconvert_exporter": "python",
      "pygments_lexer": "ipython3",
      "version": "3.9.10"
    },
    "colab": {
      "name": "fuzzy-grep.ipynb",
      "provenance": []
    }
  },
  "nbformat": 4,
  "nbformat_minor": 5
}